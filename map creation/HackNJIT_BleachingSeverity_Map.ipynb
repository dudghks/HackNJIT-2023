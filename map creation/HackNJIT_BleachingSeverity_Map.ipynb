{
  "cells": [
    {
      "cell_type": "code",
      "execution_count": 79,
      "metadata": {
        "id": "y9O3UpNrTMuz"
      },
      "outputs": [],
      "source": [
        "import pandas as pd\n",
        "import folium\n",
        "from folium.plugins import FloatImage, TimestampedGeoJson\n",
        "\n",
        "# Read the CSV file into a Pandas DataFrame\n",
        "data = pd.read_csv('/content/Data.csv')\n",
        "\n",
        "# Filter the DataFrame for the year 2015\n",
        "data_2015 = data[data['YEAR'] == 2015]\n",
        "\n",
        "# Create a base map\n",
        "m = folium.Map(location=[data_2015['LATITUDE'].mean(), data_2015['LONGITUDE'].mean()], zoom_start=3)\n",
        "\n",
        "# Add the world map image as an overlay\n",
        "FloatImage('your_world_map_image.png', bottom=0, left=0).add_to(m)\n",
        "\n",
        "# Define a function to format the marker color based on SEVERITY_CODE\n",
        "def get_marker_color(severity_code):\n",
        "    color_map = {\n",
        "        0: 'green',\n",
        "        1: 'yellow',\n",
        "        2: 'orange',\n",
        "        3: 'red'\n",
        "    }\n",
        "    return color_map.get(severity_code, 'gray')\n",
        "\n",
        "# Create GeoJSON data for the year 2015\n",
        "features = []\n",
        "for index, row in data_2015.iterrows():\n",
        "    feature = {\n",
        "        \"type\": \"Feature\",\n",
        "        \"geometry\": {\n",
        "            \"type\": \"Point\",\n",
        "            \"coordinates\": [row['LONGITUDE'], row['LATITUDE']]\n",
        "        },\n",
        "        \"properties\": {\n",
        "            \"time\": row['datetime'],\n",
        "            \"popup\": f\"Severity: {row['SEVERITY_CODE']}\",\n",
        "            \"icon\": \"circle\",\n",
        "            \"iconstyle\": {\n",
        "                \"fillColor\": get_marker_color(row['SEVERITY_CODE']),\n",
        "                \"fillOpacity\": 0.8,\n",
        "                \"radius\": 6\n",
        "            }\n",
        "        }\n",
        "    }\n",
        "    features.append(feature)\n",
        "\n",
        "#Creates geojson_data object to create a FeatureCollection\n",
        "geojson_data = {\n",
        "    \"type\": \"FeatureCollection\",\n",
        "    \"features\": features\n",
        "}\n",
        "\n",
        "# Create the TimestampedGeoJson layer\n",
        "TimestampedGeoJson(\n",
        "    geojson_data,\n",
        "    period=\"P1D\",  # You can adjust the time step (e.g., \"P1M\" for monthly data)\n",
        "    add_last_point=True\n",
        ").add_to(m)\n",
        "\n",
        "# Save the interactive map to an HTML file\n",
        "m.save('/content/interactive_map_with_overlay.html')"
      ]
    }
  ],
  "metadata": {
    "colab": {
      "provenance": []
    },
    "kernelspec": {
      "display_name": "Python 3",
      "name": "python3"
    },
    "language_info": {
      "name": "python"
    }
  },
  "nbformat": 4,
  "nbformat_minor": 0
}
