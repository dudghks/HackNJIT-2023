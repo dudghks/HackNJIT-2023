{
 "cells": [
  {
   "cell_type": "code",
   "execution_count": 6,
   "metadata": {
    "id": "y9O3UpNrTMuz"
   },
   "outputs": [],
   "source": [
    "import pandas as pd\n",
    "import folium\n",
    "from folium.plugins import FloatImage, TimestampedGeoJson\n",
    "\n",
    "# Read the CSV file into a Pandas DataFrame\n",
    "data = pd.read_csv('./Data.csv')\n",
    "\n",
    "# Data from 2002; due to bug with folium and unix timestamp digits\n",
    "data = data[data['YEAR'] >= 2002]\n",
    "\n",
    "# Create a base map\n",
    "m = folium.Map(location=[data['LATITUDE'].mean(), data['LONGITUDE'].mean()], zoom_start=5)\n",
    "\n",
    "# Define a function to format the marker color based on 'Total'\n",
    "def get_marker_color(total_co2):\n",
    "    if total_co2 <= 1:\n",
    "      color_map = 'green'\n",
    "    elif total_co2 <= 5:\n",
    "      color_map = 'yellow'\n",
    "    elif total_co2 <= 10:\n",
    "      color_map = 'orange'\n",
    "    else:\n",
    "      color_map = 'red'\n",
    "    return color_map\n",
    "\n",
    "# Create GeoJSON data\n",
    "features = []\n",
    "for index, row in data.iterrows():\n",
    "    feature = {\n",
    "        \"type\": \"Feature\",\n",
    "        \"geometry\": {\n",
    "            \"type\": \"Point\",\n",
    "            \"coordinates\": [row['LONGITUDE'], row['LATITUDE']]\n",
    "        },\n",
    "        \"properties\": {\n",
    "            \"time\": row['datetime'],\n",
    "            \"popup\": f\"CO2 Measurements (metric tons per capita) of Country: {row['Total']}\",\n",
    "            \"icon\": \"circle\",\n",
    "            \"iconstyle\": {\n",
    "                \"fillColor\": get_marker_color(row['Total']),\n",
    "                \"color\":\"black\",\n",
    "                \"weight\":1,\n",
    "                \"fillOpacity\": 0.8,\n",
    "                \"radius\": 6\n",
    "            }\n",
    "        }\n",
    "    }\n",
    "    features.append(feature)\n",
    "\n",
    "# Creates geojson_data object to create a FeatureCollection\n",
    "geojson_data = {\n",
    "    \"type\": \"FeatureCollection\",\n",
    "    \"features\": features\n",
    "}\n",
    "\n",
    "# Create the TimestampedGeoJson layer\n",
    "TimestampedGeoJson(\n",
    "    geojson_data,\n",
    "    period=\"P1M\", \n",
    "    duration=\"P1Y\",\n",
    "    add_last_point=True\n",
    ").add_to(m)\n",
    "\n",
    "# Save the interactive map to an HTML file\n",
    "m.save('./interactive_map_CO2.html')"
   ]
  },
  {
   "cell_type": "code",
   "execution_count": null,
   "metadata": {},
   "outputs": [],
   "source": []
  }
 ],
 "metadata": {
  "colab": {
   "provenance": []
  },
  "kernelspec": {
   "display_name": "Python 3 (ipykernel)",
   "language": "python",
   "name": "python3"
  },
  "language_info": {
   "codemirror_mode": {
    "name": "ipython",
    "version": 3
   },
   "file_extension": ".py",
   "mimetype": "text/x-python",
   "name": "python",
   "nbconvert_exporter": "python",
   "pygments_lexer": "ipython3",
   "version": "3.11.5"
  }
 },
 "nbformat": 4,
 "nbformat_minor": 4
}
